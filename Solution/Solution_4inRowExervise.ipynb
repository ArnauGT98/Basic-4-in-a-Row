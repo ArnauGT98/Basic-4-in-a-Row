{
 "cells": [
  {
   "cell_type": "markdown",
   "metadata": {},
   "source": [
    "## Funcionalidades basicas"
   ]
  },
  {
   "cell_type": "markdown",
   "metadata": {},
   "source": [
    "#### Definimos las funciones para poder jugar"
   ]
  },
  {
   "cell_type": "code",
   "execution_count": 1,
   "metadata": {},
   "outputs": [],
   "source": [
    "num = 1\n",
    "char1 = 'x'\n",
    "char2 = 'o'\n",
    "filas = 6 \n",
    "columnas = 7"
   ]
  },
  {
   "cell_type": "code",
   "execution_count": 2,
   "metadata": {},
   "outputs": [],
   "source": [
    "def genera_tablero(filas, columnas):\n",
    "    \"\"\" Crea el tablero del juego.\n",
    "    Params posicionales\n",
    "    filas -- int que representa el num de filas\n",
    "    columnas -- int que representa el num de columnas\n",
    "    \"\"\"\n",
    "    tablero = [None]*filas\n",
    "    for f in range(filas):\n",
    "        tablero[f] = ['.']*columnas\n",
    "    return tablero\n",
    "\n",
    "tablero = genera_tablero(filas,columnas)"
   ]
  },
  {
   "cell_type": "code",
   "execution_count": 3,
   "metadata": {},
   "outputs": [
    {
     "name": "stdout",
     "output_type": "stream",
     "text": [
      "0  1  2  3  4  5  6  \n",
      ".  .  .  .  .  .  .  \n",
      ".  .  .  .  .  .  .  \n",
      ".  .  .  .  .  .  .  \n",
      ".  .  .  .  .  .  .  \n",
      ".  .  .  .  .  .  .  \n",
      ".  .  .  .  .  .  .  "
     ]
    }
   ],
   "source": [
    "def mostrar_tablero(tablero):\n",
    "    \"\"\" Muestra el tablero de juego. \n",
    "    Params posicionales\n",
    "    tablero -- lista que representa el tablero con todas las casillas\n",
    "    \"\"\"\n",
    "    # Sacar por pantalla unos numeros \"guia\" de ref. en la parte superior\n",
    "    for i in range(len(tablero[0])):\n",
    "        print(i, end='  ')\n",
    "    # Sacar por pantalla el resto del tablero\n",
    "    for fila in tablero:\n",
    "        print(\"\")\n",
    "        for casilla in fila:\n",
    "            print(casilla, end='  ')\n",
    "\n",
    "genera_tablero(filas,columnas); mostrar_tablero(tablero)"
   ]
  },
  {
   "cell_type": "code",
   "execution_count": 4,
   "metadata": {},
   "outputs": [],
   "source": [
    "# Defino el caracter dependiendo de si num es el jugador 1 o 2\n",
    "def introducir_ficha(tablero, columna, num):\n",
    "    \"\"\" Permite introducir una ficha nueva en el tablero y devuelve \n",
    "    el tablero actualizado, con la ficha colocada. \n",
    "    Params posicionales\n",
    "    tablero -- lista que representa el tablero con todas las casillas\n",
    "    columna -- int que representa el valor de la columna en la que se quiere introducir la nueva ficha\n",
    "    num -- int que representa el jugador al que le toca mover\n",
    "    \"\"\"\n",
    "    # Verificar si la columna está llena\n",
    "    new_row = len(tablero)-1\n",
    "    if  columna >= len(tablero[0]):\n",
    "        print(\"[+] Error\")\n",
    "        \n",
    "    for i in range(len(tablero)):\n",
    "        if tablero[i][columna-1] == char1 or tablero[i][columna-1] == char2:\n",
    "            new_row = i - 1\n",
    "            break\n",
    "    \n",
    "    # Restricciones\n",
    "    if new_row < 0: # Si no caben más fichas ... \n",
    "        print(\"[+] Melón, no ves que no caben más fichas? .... O_O\")\n",
    "    else:\n",
    "                \n",
    "    # Colocar la ficha en el tablero\n",
    "        if num == 1:\n",
    "            tablero[new_row][columna-1] = char1\n",
    "        else:\n",
    "            tablero[new_row][columna-1] = char2\n",
    "            \n",
    "    return tablero"
   ]
  },
  {
   "cell_type": "code",
   "execution_count": 5,
   "metadata": {},
   "outputs": [],
   "source": [
    "def revisar_filas(tablero, num):\n",
    "    # Obtener la ficha en el tablero\n",
    "    if num == 1:\n",
    "        color = char1\n",
    "    else:\n",
    "        color = char2 \n",
    "    \n",
    "    for r in range(len(tablero)): # Recorre las filas\n",
    "        for c in range(len(tablero[0])): # Recorre las columnas\n",
    "            if tablero[r][c] == color and tablero[r][c+1] == color and tablero[r][c+2] == color and tablero[r][c+3] == color:\n",
    "                print(\"\\n[+] ... \"),print(\"[+] Enhorabuena, ganaste x4 en Raya en horizontal!!!\"), print(\"Ganaron las:\", color )\n",
    "                return True"
   ]
  },
  {
   "cell_type": "code",
   "execution_count": 6,
   "metadata": {},
   "outputs": [
    {
     "name": "stdout",
     "output_type": "stream",
     "text": [
      "0  1  2  3  4  5  6  \n",
      ".  .  .  .  .  .  .  \n",
      ".  .  .  .  .  .  .  \n",
      ".  .  .  .  .  .  .  \n",
      ".  .  .  .  .  .  .  \n",
      ".  .  .  .  .  .  .  \n",
      ".  .  .  .  .  .  .  "
     ]
    }
   ],
   "source": [
    "#introducir_ficha(tablero, 3, 2)\n",
    "#introducir_ficha(tablero, 5, 2)\n",
    "#introducir_ficha(tablero, 6, 2)\n",
    "#print(\"\\n\")\n",
    "mostrar_tablero(tablero)"
   ]
  },
  {
   "cell_type": "code",
   "execution_count": 7,
   "metadata": {},
   "outputs": [
    {
     "name": "stdout",
     "output_type": "stream",
     "text": [
      "0  1  2  3  4  5  6  \n",
      ".  .  .  .  .  .  .  \n",
      ".  .  .  .  .  .  .  \n",
      ".  .  .  .  .  .  .  \n",
      ".  .  .  .  .  .  .  \n",
      ".  .  .  .  .  .  .  \n",
      ".  .  .  .  .  .  .  "
     ]
    }
   ],
   "source": [
    "revisar_filas(tablero, 2)\n",
    "mostrar_tablero(tablero)"
   ]
  },
  {
   "cell_type": "code",
   "execution_count": 8,
   "metadata": {},
   "outputs": [],
   "source": [
    "# Obtener la ficha en el tablero\n",
    "if num == 1:\n",
    "    color = char1\n",
    "else:\n",
    "    color = char2\n",
    "    \n",
    "def revisar_columnas(tablero, num):\n",
    "    for c in range(len(tablero[0])):\n",
    "        for r in range(len(tablero) - 3):\n",
    "            if tablero[r][c] == color and tablero[r+1][c] == color and tablero[r+2][c] == color and tablero[r+3][c] == color:\n",
    "                print(\"\\n[+] ... \"),print(\"[+] Enhorabuena, ganaste x4 en Raya en vertical!!!\"), print(\"Ganaron las:\", color )\n",
    "                return True"
   ]
  },
  {
   "cell_type": "code",
   "execution_count": 9,
   "metadata": {},
   "outputs": [
    {
     "name": "stdout",
     "output_type": "stream",
     "text": [
      "0  1  2  3  4  5  6  \n",
      ".  .  .  .  .  .  .  \n",
      ".  .  .  .  .  .  .  \n",
      ".  .  .  .  .  .  .  \n",
      ".  .  .  .  .  .  .  \n",
      ".  .  .  .  .  .  .  \n",
      ".  .  .  .  .  .  .  "
     ]
    }
   ],
   "source": [
    "revisar_columnas(tablero, 1)\n",
    "mostrar_tablero(tablero)"
   ]
  },
  {
   "cell_type": "code",
   "execution_count": 10,
   "metadata": {},
   "outputs": [],
   "source": [
    "def revisar_diagonal_derecha(tablero, color):\n",
    "    # Empieza a mirar por la esquina inferior izquierda del tablero\n",
    "    col_ini = 0\n",
    "    row_ini = 5\n",
    "    \n",
    "    # Verificar si la casilla está llena o vacía\n",
    "    for c in range(len(tablero[0]) -3): #Evaluo las columnas \n",
    "        for r in range(len(tablero)-1, 2, -1):\n",
    "            if tablero[r][c] == color and tablero[r-1][c+1] == color and tablero[r-2][c+2] == color and tablero[r-3][c+3] == color:\n",
    "                print(\"\\n\\n[+] ... \"), print(\"[+] Enhorabuena, ganaste x4 en Raya en diagonal derecha!!\"), print(\"[+] Ganador: 4\",color)\n",
    "                return True"
   ]
  },
  {
   "cell_type": "code",
   "execution_count": 11,
   "metadata": {},
   "outputs": [],
   "source": [
    "def revisar_diagonal_izquierda(tablero, color):\n",
    "    # Empieza a mirar por la esquina inferior izquierda del tablero\n",
    "    col_ini = 0\n",
    "    row_ini = 5\n",
    "    \n",
    "    for c in range(len(tablero[0])-1, 2, -1): #Evaluo las columnas \n",
    "        for r in range(len(tablero)-1, 2, -1):\n",
    "            if tablero[r][c] == color and tablero[r-1][c-1] == color and tablero[r-2][c-2] == color and tablero[r-3][c-3] == color:\n",
    "                print(\"\\n\\n[+] ... \"), print(\"[+] Enhorabuena, ganaste x4 en Raya en diagonal izquierda!!\"), print(\"[+] Ganador: 4\",color)\n",
    "                return True"
   ]
  },
  {
   "cell_type": "code",
   "execution_count": 12,
   "metadata": {},
   "outputs": [],
   "source": [
    "def comprobar_ganador(tablero, color):\n",
    "    if revisar_filas(tablero, num) == True or revisar_columnas(tablero, num) == True or revisar_diagonal_derecha(tablero, color) == True or revisar_diagonal_izquierda(tablero, color) == True:\n",
    "        return True"
   ]
  },
  {
   "cell_type": "code",
   "execution_count": 13,
   "metadata": {},
   "outputs": [],
   "source": [
    "def imprimir_portada():\n",
    "    print(\"\"\"\n",
    "          \n",
    " ██████╗  █████╗ ███╗   ███╗███████╗    ██╗  ██╗    ██╗███╗   ██╗    ██████╗  ██████╗ ██╗    ██╗\n",
    "██╔════╝ ██╔══██╗████╗ ████║██╔════╝    ██║  ██║    ██║████╗  ██║    ██╔══██╗██╔═══██╗██║    ██║\n",
    "██║  ███╗███████║██╔████╔██║█████╗      ███████║    ██║██╔██╗ ██║    ██████╔╝██║   ██║██║ █╗ ██║\n",
    "██║   ██║██╔══██║██║╚██╔╝██║██╔══╝      ╚════██║    ██║██║╚██╗██║    ██╔══██╗██║   ██║██║███╗██║\n",
    "╚██████╔╝██║  ██║██║ ╚═╝ ██║███████╗         ██║    ██║██║ ╚████║    ██║  ██║╚██████╔╝╚███╔███╔╝\n",
    " ╚═════╝ ╚═╝  ╚═╝╚═╝     ╚═╝╚══════╝         ╚═╝    ╚═╝╚═╝  ╚═══╝    ╚═╝  ╚═╝ ╚═════╝  ╚══╝╚══╝ \n",
    "\n",
    "\"\"\")"
   ]
  },
  {
   "cell_type": "code",
   "execution_count": 14,
   "metadata": {},
   "outputs": [
    {
     "name": "stdout",
     "output_type": "stream",
     "text": [
      "El tablero ha sido borrado y se puede empezar una nueva partida\n",
      "0  1  2  3  4  5  6  \n",
      ".  .  .  .  .  .  .  \n",
      ".  .  .  .  .  .  .  \n",
      ".  .  .  .  .  .  .  \n",
      ".  .  .  .  .  .  .  \n",
      ".  .  .  .  .  .  .  \n",
      ".  .  .  .  .  .  .  "
     ]
    }
   ],
   "source": [
    "introducir_ficha(tablero, 1, 1)\n",
    "def borrar_tablero(tablero):\n",
    "    \"\"\" Borra el contenido del tablero y lo reinicia.\n",
    "    Params:\n",
    "    tablero -- lista de listas que representa el tablero del juego\n",
    "    \"\"\"\n",
    "    filas = len(tablero)  # Obtiene el número de filas del tablero\n",
    "    columnas = len(tablero[0])  # Obtiene el número de columnas del tablero\n",
    "    nuevo_tablero = genera_tablero(filas, columnas)  # Genera un nuevo tablero utilizando las dimensiones del tablero actual\n",
    "    tablero[:] = nuevo_tablero  # Sobrescribe el contenido del tablero actual con el nuevo tablero\n",
    "    print(\"El tablero ha sido borrado y se puede empezar una nueva partida\")\n",
    "    return tablero\n",
    "\n",
    "borrar_tablero(tablero)\n",
    "mostrar_tablero(tablero)"
   ]
  },
  {
   "cell_type": "markdown",
   "metadata": {},
   "source": [
    "## Testing "
   ]
  },
  {
   "cell_type": "code",
   "execution_count": 15,
   "metadata": {},
   "outputs": [
    {
     "name": "stdout",
     "output_type": "stream",
     "text": [
      "El tablero ha sido borrado y se puede empezar una nueva partida\n",
      "0  1  2  3  4  5  6  \n",
      ".  .  .  .  .  .  .  \n",
      ".  .  .  .  .  .  .  \n",
      ".  .  .  .  .  .  .  \n",
      ".  .  .  .  .  .  .  \n",
      "x  .  .  .  .  .  .  \n",
      "x  .  .  .  .  .  .  "
     ]
    }
   ],
   "source": [
    "borrar_tablero(tablero)\n",
    "introducir_ficha(tablero, 1, 1)\n",
    "introducir_ficha(tablero, 1, 1)\n",
    "mostrar_tablero(tablero)\n",
    "comprobar_ganador(tablero, num)"
   ]
  },
  {
   "cell_type": "markdown",
   "metadata": {},
   "source": [
    "## Game Settings"
   ]
  },
  {
   "cell_type": "code",
   "execution_count": 16,
   "metadata": {},
   "outputs": [],
   "source": [
    "# Necessary params\n",
    "filas = 6; \n",
    "columnas = 7;\n",
    "char1 = 'x'\n",
    "char2 = 'o'"
   ]
  },
  {
   "cell_type": "code",
   "execution_count": 17,
   "metadata": {},
   "outputs": [
    {
     "name": "stdout",
     "output_type": "stream",
     "text": [
      "\n",
      "\n",
      "[+] ... \n",
      "[+] Enhorabuena, ganaste x4 en Raya en diagonal derecha!!\n",
      "[+] Ganador: 4 x\n",
      "[+] Ganador: El jugador  1 \n",
      "\n",
      "0  1  2  3  4  5  6  \n",
      ".  .  .  .  .  .  .  \n",
      ".  .  .  .  .  .  .  \n",
      ".  .  .  x  .  .  .  \n",
      ".  .  x  o  .  .  .  \n",
      ".  x  x  x  .  .  .  \n",
      "x  o  o  o  o  .  .  "
     ]
    }
   ],
   "source": [
    "next_turn = 1  # Inicializamos next_turn con el primer turno\n",
    "\n",
    "from IPython.display import clear_output\n",
    "\n",
    "num = input(\"Indica tu Nº de jugador: \")\n",
    "# Restricciones\n",
    "# 1.Verificar si el valor introducido es numérico\n",
    "if not num.isdigit():\n",
    "    print(\"[+] El valor introducido debe ser numérico\")\n",
    "else:\n",
    "    num = int(num)\n",
    "    \n",
    "    # Suponiendo que `tablero` debe ser definido antes de su uso\n",
    "    tablero = genera_tablero(6, 7)\n",
    "\n",
    "    while True:\n",
    "        turn = next_turn\n",
    "        print(\"Le toca al jugador:\", turn)\n",
    "        mostrar_tablero(tablero)\n",
    "        print(\"\\n\\n\")\n",
    "        columna = int(input(\"[+] Introduciendo nueva ficha en la columna: \"))\n",
    "        print(\"\\n\\n\")\n",
    "        if columna >= len(tablero[0]):\n",
    "            print(\"[+] Te pasaste bobo, este tablero no tiene tantas columnas!\"); print(\"\\n\\n\");\n",
    "            print(\"[+] El numero máximo de columnas es:\", len(tablero[0]))\n",
    "            continue  # Reintentar el turno si la columna es inválida\n",
    "        \n",
    "        if turn == 1:\n",
    "            char = 'x'  # Color de la ficha del jugador 1\n",
    "            next_turn = 2  # Cambiar el turno al jugador 2\n",
    "        elif turn == 2:\n",
    "            char = 'o'  # Color de la ficha del jugador 2\n",
    "            next_turn = 1  # Cambiar el turno al jugador 1\n",
    "        \n",
    "        introducir_ficha(tablero, columna, turn)\n",
    "        mostrar_tablero(tablero)\n",
    "        clear_output(wait=False)\n",
    "        \n",
    "        if comprobar_ganador(tablero, char):\n",
    "            print(\"[+] Ganador: El jugador \", turn, \"\\n\")\n",
    "            mostrar_tablero(tablero)\n",
    "            break"
   ]
  }
 ],
 "metadata": {
  "kernelspec": {
   "display_name": "pythonProject1",
   "language": "python",
   "name": "python3"
  },
  "language_info": {
   "codemirror_mode": {
    "name": "ipython",
    "version": 3
   },
   "file_extension": ".py",
   "mimetype": "text/x-python",
   "name": "python",
   "nbconvert_exporter": "python",
   "pygments_lexer": "ipython3",
   "version": "3.11.7"
  }
 },
 "nbformat": 4,
 "nbformat_minor": 2
}
